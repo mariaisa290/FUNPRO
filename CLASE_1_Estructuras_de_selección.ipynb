{
  "nbformat": 4,
  "nbformat_minor": 0,
  "metadata": {
    "colab": {
      "provenance": [],
      "authorship_tag": "ABX9TyMcywzGWjtp+njVeR/gsuGk",
      "include_colab_link": true
    },
    "kernelspec": {
      "name": "python3",
      "display_name": "Python 3"
    },
    "language_info": {
      "name": "python"
    }
  },
  "cells": [
    {
      "cell_type": "markdown",
      "metadata": {
        "id": "view-in-github",
        "colab_type": "text"
      },
      "source": [
        "<a href=\"https://colab.research.google.com/github/mariaisa290/FUNPRO/blob/main/CLASE_1_Estructuras_de_selecci%C3%B3n.ipynb\" target=\"_parent\"><img src=\"https://colab.research.google.com/assets/colab-badge.svg\" alt=\"Open In Colab\"/></a>"
      ]
    },
    {
      "cell_type": "code",
      "execution_count": 7,
      "metadata": {
        "colab": {
          "base_uri": "https://localhost:8080/"
        },
        "id": "cq1KVIYqRWB7",
        "outputId": "016060d3-1056-4620-e60e-93abda846620"
      },
      "outputs": [
        {
          "name": "stdout",
          "output_type": "stream",
          "text": [
            "Detecto poca gasolina en el tanque\n",
            "Desea ir a la gasolinera más cercana?\n",
            "si\n"
          ]
        }
      ],
      "source": [
        "1 #EJEMPLO1: AI para gasolina\n",
        "respuesta=\"\" #Declaramos una variable como caracter\n",
        "3 #Para imprimir, usamos el comando print\n",
        "print (\"Detecto poca gasolina en el tanque\")\n",
        "print (\"Desea ir a la gasolinera más cercana?\")\n",
        "6 #funcion input para leer respuestas\n",
        "respuesta=input()"
      ]
    },
    {
      "cell_type": "code",
      "source": [
        "respuesta=input(\"Detecto poca gasolina en el tanque\\nDesea ir a la gasolinera más cercana?\")"
      ],
      "metadata": {
        "colab": {
          "base_uri": "https://localhost:8080/"
        },
        "id": "9i5m7osAeGNi",
        "outputId": "cf4aaa5a-37bd-49b6-9513-0906655ce24e"
      },
      "execution_count": 9,
      "outputs": [
        {
          "name": "stdout",
          "output_type": "stream",
          "text": [
            "Detecto poca gasolina en el tanque\n",
            "Desea ir a la gasolinera más cercana?si\n"
          ]
        }
      ]
    },
    {
      "cell_type": "code",
      "source": [
        "if respuesta==\"si\":\n",
        "  print (\"Ir a la gasolinera mas cercana\")\n",
        "else:\n",
        "  print(\"seguimos derecho\")"
      ],
      "metadata": {
        "colab": {
          "base_uri": "https://localhost:8080/"
        },
        "id": "UrYzW2tcdQWz",
        "outputId": "0fcabc63-9d16-4e41-ff98-53decaaf8d54"
      },
      "execution_count": 8,
      "outputs": [
        {
          "output_type": "stream",
          "name": "stdout",
          "text": [
            "Ir a la gasolinera mas cercana\n"
          ]
        }
      ]
    },
    {
      "cell_type": "code",
      "source": [
        "#Vamos a mejorar el ejercicio\n",
        "import random #importando la libreria random\n",
        "gasolina=random.randint(1,10) #Hallar un numero aleatorio entre 1 y 100\n",
        "gasolina"
      ],
      "metadata": {
        "colab": {
          "base_uri": "https://localhost:8080/"
        },
        "id": "GcCDO4Iyglog",
        "outputId": "745b2b5b-8238-46d6-e25a-ef96f1431769"
      },
      "execution_count": 22,
      "outputs": [
        {
          "output_type": "execute_result",
          "data": {
            "text/plain": [
              "5"
            ]
          },
          "metadata": {},
          "execution_count": 22
        }
      ]
    },
    {
      "cell_type": "code",
      "source": [
        "if gasolina<=10:\n",
        "  respuesta=input(\"Detecto poca gasolina en el tanque\\nDesea ir a la gasolinera más cercana?\")\n",
        "  if respuesta==\"si\":\n",
        "    print(\"Ir a la gasolinera mas cercana\")\n",
        "  else:\n",
        "    print(\"seguimos derecho\")\n",
        "else:\n",
        "  print(\"sigo por el camino\")"
      ],
      "metadata": {
        "colab": {
          "base_uri": "https://localhost:8080/"
        },
        "id": "Ef8pDmDYhMSv",
        "outputId": "f98d147f-c1f9-4882-e451-7292107bdb19"
      },
      "execution_count": 27,
      "outputs": [
        {
          "output_type": "stream",
          "name": "stdout",
          "text": [
            "Detecto poca gasolina en el tanque\n",
            "Desea ir a la gasolinera más cercana?si\n",
            "Ir a la gasolinera mas cercana\n"
          ]
        }
      ]
    }
  ]
}
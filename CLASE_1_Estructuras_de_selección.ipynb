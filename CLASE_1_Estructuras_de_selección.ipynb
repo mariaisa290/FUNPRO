{
  "nbformat": 4,
  "nbformat_minor": 0,
  "metadata": {
    "colab": {
      "provenance": [],
      "authorship_tag": "ABX9TyMsRs8nwI3YN/mNFzTIdAet",
      "include_colab_link": true
    },
    "kernelspec": {
      "name": "python3",
      "display_name": "Python 3"
    },
    "language_info": {
      "name": "python"
    }
  },
  "cells": [
    {
      "cell_type": "markdown",
      "metadata": {
        "id": "view-in-github",
        "colab_type": "text"
      },
      "source": [
        "<a href=\"https://colab.research.google.com/github/mariaisa290/FUNPRO/blob/main/CLASE_1_Estructuras_de_selecci%C3%B3n.ipynb\" target=\"_parent\"><img src=\"https://colab.research.google.com/assets/colab-badge.svg\" alt=\"Open In Colab\"/></a>"
      ]
    },
    {
      "cell_type": "code",
      "execution_count": null,
      "metadata": {
        "colab": {
          "base_uri": "https://localhost:8080/"
        },
        "id": "cq1KVIYqRWB7",
        "outputId": "016060d3-1056-4620-e60e-93abda846620"
      },
      "outputs": [
        {
          "name": "stdout",
          "output_type": "stream",
          "text": [
            "Detecto poca gasolina en el tanque\n",
            "Desea ir a la gasolinera más cercana?\n",
            "si\n"
          ]
        }
      ],
      "source": [
        "1 #EJEMPLO1: AI para gasolina\n",
        "respuesta=\"\" #Declaramos una variable como caracter\n",
        "3 #Para imprimir, usamos el comando print\n",
        "print (\"Detecto poca gasolina en el tanque\")\n",
        "print (\"Desea ir a la gasolinera más cercana?\")\n",
        "6 #funcion input para leer respuestas\n",
        "respuesta=input()"
      ]
    },
    {
      "cell_type": "code",
      "source": [
        "respuesta=input(\"Detecto poca gasolina en el tanque\\nDesea ir a la gasolinera más cercana?\")"
      ],
      "metadata": {
        "colab": {
          "base_uri": "https://localhost:8080/"
        },
        "id": "9i5m7osAeGNi",
        "outputId": "cf4aaa5a-37bd-49b6-9513-0906655ce24e"
      },
      "execution_count": null,
      "outputs": [
        {
          "name": "stdout",
          "output_type": "stream",
          "text": [
            "Detecto poca gasolina en el tanque\n",
            "Desea ir a la gasolinera más cercana?si\n"
          ]
        }
      ]
    },
    {
      "cell_type": "code",
      "source": [
        "if respuesta==\"si\":\n",
        "  print (\"Ir a la gasolinera mas cercana\")\n",
        "else:\n",
        "  print(\"seguimos derecho\")"
      ],
      "metadata": {
        "colab": {
          "base_uri": "https://localhost:8080/"
        },
        "id": "UrYzW2tcdQWz",
        "outputId": "0fcabc63-9d16-4e41-ff98-53decaaf8d54"
      },
      "execution_count": null,
      "outputs": [
        {
          "output_type": "stream",
          "name": "stdout",
          "text": [
            "Ir a la gasolinera mas cercana\n"
          ]
        }
      ]
    },
    {
      "cell_type": "code",
      "source": [
        "#Vamos a mejorar el ejercicio\n",
        "import random #importando la libreria random\n",
        "gasolina=random.randint(1,10) #Hallar un numero aleatorio entre 1 y 100\n",
        "gasolina"
      ],
      "metadata": {
        "colab": {
          "base_uri": "https://localhost:8080/"
        },
        "id": "GcCDO4Iyglog",
        "outputId": "745b2b5b-8238-46d6-e25a-ef96f1431769"
      },
      "execution_count": null,
      "outputs": [
        {
          "output_type": "execute_result",
          "data": {
            "text/plain": [
              "5"
            ]
          },
          "metadata": {},
          "execution_count": 22
        }
      ]
    },
    {
      "cell_type": "code",
      "source": [
        "if gasolina<=10:\n",
        "  respuesta=input(\"Detecto poca gasolina en el tanque\\nDesea ir a la gasolinera más cercana?\")\n",
        "  if respuesta==\"si\":\n",
        "    print(\"Ir a la gasolinera mas cercana\")\n",
        "  else:\n",
        "    print(\"seguimos derecho\")\n",
        "else:\n",
        "  print(\"sigo por el camino\")"
      ],
      "metadata": {
        "colab": {
          "base_uri": "https://localhost:8080/"
        },
        "id": "Ef8pDmDYhMSv",
        "outputId": "f98d147f-c1f9-4882-e451-7292107bdb19"
      },
      "execution_count": null,
      "outputs": [
        {
          "output_type": "stream",
          "name": "stdout",
          "text": [
            "Detecto poca gasolina en el tanque\n",
            "Desea ir a la gasolinera más cercana?si\n",
            "Ir a la gasolinera mas cercana\n"
          ]
        }
      ]
    },
    {
      "cell_type": "markdown",
      "source": [
        "IF, ELSE , ELIF\n"
      ],
      "metadata": {
        "id": "f5wtdauyTRG6"
      }
    },
    {
      "cell_type": "code",
      "source": [
        "#Pasa o no la materia, dependiendo de promedio >3 y asistencia >80%\n",
        "nota=float(input(\"Ingrese su promedio\"))\n",
        "asistencia=int(input(\"Ingrese la cantidad de horas totales de la clase\"))\n",
        "horas_totales=int(input(\"Ingrese la cantidad de horas totales de la clase\"))\n",
        "if notas>=3 and asistencia>horas_totales*.8:\n",
        "    print(f\"El estudiante paso la materia con {nota} y asistio mas del 80% de las clases\" )\n",
        "elif nota<3 and asitencia>horas_totales*.8:\n",
        "    print(f\"El estudiante pierde la materia con {nota} pero asistio a mas del 80% de las clases\")\n",
        "elif nota>=3 and asistencia<horas_totales*.8:\n",
        "  print(f\"El estudiante paso la materia con {nota} pero pierde debido a inasistencia\")\n",
        "else:\n",
        "   print(f\"El estudiante perdio la materia con {nota} y no asistio a suficientes clases\")"
      ],
      "metadata": {
        "colab": {
          "base_uri": "https://localhost:8080/",
          "height": 263
        },
        "id": "SxhvrKX7TtQh",
        "outputId": "dbba6841-e9b1-44b7-ba65-701db2ff766a"
      },
      "execution_count": 13,
      "outputs": [
        {
          "name": "stdout",
          "output_type": "stream",
          "text": [
            "Ingrese su promedio2\n",
            "Ingrese la cantidad de horas totales de la clase3\n",
            "Ingrese la cantidad de horas totales de la clase10\n"
          ]
        },
        {
          "output_type": "error",
          "ename": "NameError",
          "evalue": "name 'notas' is not defined",
          "traceback": [
            "\u001b[0;31m---------------------------------------------------------------------------\u001b[0m",
            "\u001b[0;31mNameError\u001b[0m                                 Traceback (most recent call last)",
            "\u001b[0;32m/tmp/ipython-input-834787735.py\u001b[0m in \u001b[0;36m<cell line: 0>\u001b[0;34m()\u001b[0m\n\u001b[1;32m      3\u001b[0m \u001b[0masistencia\u001b[0m\u001b[0;34m=\u001b[0m\u001b[0mint\u001b[0m\u001b[0;34m(\u001b[0m\u001b[0minput\u001b[0m\u001b[0;34m(\u001b[0m\u001b[0;34m\"Ingrese la cantidad de horas totales de la clase\"\u001b[0m\u001b[0;34m)\u001b[0m\u001b[0;34m)\u001b[0m\u001b[0;34m\u001b[0m\u001b[0;34m\u001b[0m\u001b[0m\n\u001b[1;32m      4\u001b[0m \u001b[0mhoras_totales\u001b[0m\u001b[0;34m=\u001b[0m\u001b[0mint\u001b[0m\u001b[0;34m(\u001b[0m\u001b[0minput\u001b[0m\u001b[0;34m(\u001b[0m\u001b[0;34m\"Ingrese la cantidad de horas totales de la clase\"\u001b[0m\u001b[0;34m)\u001b[0m\u001b[0;34m)\u001b[0m\u001b[0;34m\u001b[0m\u001b[0;34m\u001b[0m\u001b[0m\n\u001b[0;32m----> 5\u001b[0;31m \u001b[0;32mif\u001b[0m \u001b[0mnotas\u001b[0m\u001b[0;34m>=\u001b[0m\u001b[0;36m3\u001b[0m \u001b[0;32mand\u001b[0m \u001b[0masistencia\u001b[0m\u001b[0;34m>\u001b[0m\u001b[0mhoras_totales\u001b[0m\u001b[0;34m*\u001b[0m\u001b[0;36m.8\u001b[0m\u001b[0;34m:\u001b[0m\u001b[0;34m\u001b[0m\u001b[0;34m\u001b[0m\u001b[0m\n\u001b[0m\u001b[1;32m      6\u001b[0m     \u001b[0mprint\u001b[0m\u001b[0;34m(\u001b[0m\u001b[0;34mf\"El estudiante paso la materia con {nota} y asistio mas del 80% de las clases\"\u001b[0m \u001b[0;34m)\u001b[0m\u001b[0;34m\u001b[0m\u001b[0;34m\u001b[0m\u001b[0m\n\u001b[1;32m      7\u001b[0m \u001b[0;32melif\u001b[0m \u001b[0mnota\u001b[0m\u001b[0;34m<\u001b[0m\u001b[0;36m3\u001b[0m \u001b[0;32mand\u001b[0m \u001b[0masitencia\u001b[0m\u001b[0;34m>\u001b[0m\u001b[0mhoras_totales\u001b[0m\u001b[0;34m*\u001b[0m\u001b[0;36m.8\u001b[0m\u001b[0;34m:\u001b[0m\u001b[0;34m\u001b[0m\u001b[0;34m\u001b[0m\u001b[0m\n",
            "\u001b[0;31mNameError\u001b[0m: name 'notas' is not defined"
          ]
        }
      ]
    },
    {
      "cell_type": "markdown",
      "source": [
        "MATCH/CASE"
      ],
      "metadata": {
        "id": "A3pWy8qSZ178"
      }
    },
    {
      "cell_type": "code",
      "source": [
        "#Programa que identifique si la letra ingresada es una vocal mayuscula, minuscula\n",
        "letra=input(\"Ingerese una letra\")\n",
        "match letra:\n",
        "    case \"a\":print(f\"{letra} es una vocal minuscula\")\n",
        "    case \"e\":print(f\"{letra} es una vocal minuscula\")\n",
        "    case \"i\":print(f\"{letra} es una vocal minuscula\")\n",
        "    case \"o\":print(f\"{letra} es una vocal minuscula\")\n",
        "    case \"u\":print(f\"{letra} es una vocal minuscula\")\n",
        "    case \"A\":print(f\"{letra} es una vocal MAYUSCULA\")\n",
        "    case \"E\":print(f\"{letra} es una vocal MAYUSCULA\")\n",
        "    case \"I\":print(f\"{letra} es una vocal MAYUSCULA\")\n",
        "    case \"O\":print(f\"{letra} es una vocal MAYUSCULA\")\n",
        "    case \"U\":print(f\"{letra} es una vocal MAYUSCULA\")\n",
        "    case _:print(f\"{letra} no es una vocal\")"
      ],
      "metadata": {
        "colab": {
          "base_uri": "https://localhost:8080/"
        },
        "id": "Omi4SbCJZ4rU",
        "outputId": "bc8fecd0-0840-414b-d4eb-9d9663fa265c"
      },
      "execution_count": 12,
      "outputs": [
        {
          "output_type": "stream",
          "name": "stdout",
          "text": [
            "Ingerese una letraa\n",
            "a es una vocal minuscula\n"
          ]
        }
      ]
    },
    {
      "cell_type": "code",
      "source": [
        "#Identifica si la letra ingreseda es una vocal mayuscula, minuscula\n",
        "letra= imput(\"ingrese una letra\")\n",
        "if letra (\"a\" \"e\" \"i\" \"o\" \"u\")\n",
        "  print(\"si la letra es una vocal\")\n",
        "if letra (\"A\" \"E\" \"I\" \"O\" \"U\")\n",
        "  print (\"si la letra es una mayuscula\")\n",
        "  else:\n",
        "    print (f\"{letra} es una vocal miniscula\")"
      ],
      "metadata": {
        "colab": {
          "base_uri": "https://localhost:8080/",
          "height": 106
        },
        "id": "OxQZo6bLcRXq",
        "outputId": "e8a4904d-cf16-4f66-c192-e3b2dbfdff4a"
      },
      "execution_count": 18,
      "outputs": [
        {
          "output_type": "error",
          "ename": "SyntaxError",
          "evalue": "expected ':' (ipython-input-967037391.py, line 3)",
          "traceback": [
            "\u001b[0;36m  File \u001b[0;32m\"/tmp/ipython-input-967037391.py\"\u001b[0;36m, line \u001b[0;32m3\u001b[0m\n\u001b[0;31m    if letra (\"a\" \"e\" \"i\" \"o\" \"u\")\u001b[0m\n\u001b[0m                                  ^\u001b[0m\n\u001b[0;31mSyntaxError\u001b[0m\u001b[0;31m:\u001b[0m expected ':'\n"
          ]
        }
      ]
    },
    {
      "cell_type": "markdown",
      "source": [
        "EJERCICIOS TALLER"
      ],
      "metadata": {
        "id": "gtuoRdZlgBUH"
      }
    },
    {
      "cell_type": "code",
      "source": [
        "#Desarrolla un sistema de riego\n",
        "humedad _suelo=float(input(\"Ingrese la temperatura del suelo\"))\n",
        "\n",
        "\n"
      ],
      "metadata": {
        "id": "MqPz0LbXgFcG"
      },
      "execution_count": null,
      "outputs": []
    }
  ]
}
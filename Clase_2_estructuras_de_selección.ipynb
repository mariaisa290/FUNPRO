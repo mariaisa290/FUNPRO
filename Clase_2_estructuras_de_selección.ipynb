{
  "nbformat": 4,
  "nbformat_minor": 0,
  "metadata": {
    "colab": {
      "provenance": [],
      "include_colab_link": true
    },
    "kernelspec": {
      "name": "python3",
      "display_name": "Python 3"
    },
    "language_info": {
      "name": "python"
    }
  },
  "cells": [
    {
      "cell_type": "markdown",
      "metadata": {
        "id": "view-in-github",
        "colab_type": "text"
      },
      "source": [
        "<a href=\"https://colab.research.google.com/github/mariaisa290/FUNPRO/blob/main/Clase_2_estructuras_de_selecci%C3%B3n.ipynb\" target=\"_parent\"><img src=\"https://colab.research.google.com/assets/colab-badge.svg\" alt=\"Open In Colab\"/></a>"
      ]
    },
    {
      "cell_type": "markdown",
      "source": [
        "EJERCICIO EN CLASE"
      ],
      "metadata": {
        "id": "zZW_qHnm9fpD"
      }
    },
    {
      "cell_type": "code",
      "execution_count": null,
      "metadata": {
        "colab": {
          "base_uri": "https://localhost:8080/"
        },
        "id": "On2uKPg8lxAX",
        "outputId": "aed4dafc-35bf-4ce5-e4f6-418a3948b9f7"
      },
      "outputs": [
        {
          "output_type": "stream",
          "name": "stdout",
          "text": [
            "ingrese la nota 1: 4\n",
            "ingrese la nota 2: 4\n",
            "ingrese la nota 3: 4\n",
            "ingrese la nota 4: 1\n",
            "ingrese las fallas del estudiante:0\n",
            "cuantas son las horas de su programa:15\n",
            "Aprobó porque su nota es de 3.4000000000000004 y asistio más del 20% de las clases\n"
          ]
        }
      ],
      "source": [
        "n1=float(input(\"ingrese la nota 1: \"))\n",
        "n2=float(input(\"ingrese la nota 2: \"))\n",
        "n3=float(input(\"ingrese la nota 3: \"))\n",
        "n4=float(input(\"ingrese la nota 4: \"))\n",
        "f=int(input(\"ingrese las fallas del estudiante:\"))\n",
        "a=int(input(\"cuantas son las horas de su programa:\"))\n",
        "p=(n1+n2+n3)/3*.8+n4*.2\n",
        "if p>=3:\n",
        "  if f<=a*.2:\n",
        "    print(f\"Aprobó porque su nota es de {p} y asistio más del 20% de las clases\")\n",
        "  else:\n",
        "    print(f\"Reprobó porque falto {f} veces que es superior al 20%\")\n",
        "else:\n",
        "  print(\"Reprobó porque su nota fue de {p}\")"
      ]
    },
    {
      "cell_type": "markdown",
      "source": [],
      "metadata": {
        "id": "HHneVPMt5ewT"
      }
    },
    {
      "cell_type": "markdown",
      "source": [
        "EJERCICIOS EN GRUPO"
      ],
      "metadata": {
        "id": "LgjGVDBK9amx"
      }
    },
    {
      "cell_type": "code",
      "source": [
        "C=float(input(\"ingrese la calificación del examen:\"))\n",
        "if C>=3.2:\n",
        "  print(\"Aprobó\")\n",
        "else:\n",
        "  print(\"Reprobó\")"
      ],
      "metadata": {
        "colab": {
          "base_uri": "https://localhost:8080/"
        },
        "id": "sufnz_RO9j6r",
        "outputId": "ba7b9e36-e521-4091-b265-8289c7ccdd0c"
      },
      "execution_count": null,
      "outputs": [
        {
          "output_type": "stream",
          "name": "stdout",
          "text": [
            "ingrese la calificación del examen:4\n",
            "Aprobó\n"
          ]
        }
      ]
    },
    {
      "cell_type": "code",
      "source": [
        "S = int(input(\"sueldo del trabajador\"))\n",
        "if S <= 1000:\n",
        "  NS= S + S * 0.15\n",
        "  print(f\"nuevo sueldo {NS}\")\n",
        "else:\n",
        "  NS= S + S * 0.12\n",
        "  print(f\"nuevo sueldo {NS}\")"
      ],
      "metadata": {
        "colab": {
          "base_uri": "https://localhost:8080/"
        },
        "id": "w0vaqaur9s9P",
        "outputId": "1b7a6189-411c-46de-de8d-6557ed722908"
      },
      "execution_count": null,
      "outputs": [
        {
          "output_type": "stream",
          "name": "stdout",
          "text": [
            "sueldo del trabajador2000\n",
            "nuevo sueldo 2240.0\n"
          ]
        }
      ]
    }
  ]
}